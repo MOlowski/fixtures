{
 "cells": [
  {
   "cell_type": "markdown",
   "id": "76dc6bb7",
   "metadata": {},
   "source": [
    "# Find premier league team's ids"
   ]
  },
  {
   "cell_type": "markdown",
   "id": "a0df85ba",
   "metadata": {},
   "source": [
    "### done by finding team with their id in premier league table"
   ]
  },
  {
   "cell_type": "code",
   "execution_count": 3,
   "id": "05fce69d",
   "metadata": {},
   "outputs": [
    {
     "name": "stdout",
     "output_type": "stream",
     "text": [
      "Collecting pandas\n",
      "  Using cached pandas-1.5.2-cp311-cp311-win_amd64.whl (10.3 MB)\n",
      "Collecting python-dateutil>=2.8.1\n",
      "  Using cached python_dateutil-2.8.2-py2.py3-none-any.whl (247 kB)\n",
      "Collecting pytz>=2020.1\n",
      "  Using cached pytz-2022.6-py2.py3-none-any.whl (498 kB)\n",
      "Collecting numpy>=1.21.0\n",
      "  Using cached numpy-1.23.5-cp311-cp311-win_amd64.whl (14.6 MB)\n",
      "Collecting six>=1.5\n",
      "  Using cached six-1.16.0-py2.py3-none-any.whl (11 kB)\n",
      "Installing collected packages: pytz, six, numpy, python-dateutil, pandas\n",
      "Successfully installed numpy-1.23.5 pandas-1.5.2 python-dateutil-2.8.2 pytz-2022.6 six-1.16.0\n"
     ]
    },
    {
     "name": "stderr",
     "output_type": "stream",
     "text": [
      "\n",
      "[notice] A new release of pip available: 22.3 -> 22.3.1\n",
      "[notice] To update, run: python.exe -m pip install --upgrade pip\n"
     ]
    }
   ],
   "source": [
    "!pip install pandas"
   ]
  },
  {
   "cell_type": "code",
   "execution_count": 4,
   "id": "dd376b8f",
   "metadata": {},
   "outputs": [],
   "source": [
    "import requests\n",
    "import json\n",
    "import pandas as pd\n",
    "\n",
    "URL = \"https://v3.football.api-sports.io/standings\"\n",
    "\n",
    "headers = {\n",
    "    \"Content-Type\": \"application/json\",\n",
    "    \"x-rapidapi-host\": \"v3.football.api-sports.io\",\n",
    "    \"x-rapidapi-key\": \"d344e44df5d6ddd17d81d42ace86c412\"\n",
    "}\n",
    "\n",
    "params = {\n",
    "    \"league\": \"39\",\n",
    "    \"season\": \"2021\"\n",
    "}\n",
    "\n",
    "response = requests.get(\n",
    "    URL,\n",
    "    params = params,\n",
    "    headers = headers\n",
    ")\n",
    "\n",
    "data = response.json()"
   ]
  },
  {
   "cell_type": "markdown",
   "id": "3fa29e1f",
   "metadata": {},
   "source": [
    "#####  option 1"
   ]
  },
  {
   "cell_type": "code",
   "execution_count": 79,
   "id": "da36b9bd",
   "metadata": {},
   "outputs": [
    {
     "name": "stdout",
     "output_type": "stream",
     "text": [
      "Premier League\n"
     ]
    }
   ],
   "source": [
    "print(data['response'][0]['league']['name'])"
   ]
  },
  {
   "cell_type": "code",
   "execution_count": 94,
   "id": "4d43e879",
   "metadata": {},
   "outputs": [],
   "source": [
    "#initialize json file with teams\n",
    "\n",
    "with open(\"teams_ids.json\", \"w+\") as f:\n",
    "    initialize = {\n",
    "        \"team\": []\n",
    "    }\n",
    "    json.dump(initialize, f)"
   ]
  },
  {
   "cell_type": "code",
   "execution_count": 95,
   "id": "96c790c5",
   "metadata": {},
   "outputs": [],
   "source": [
    "teams_num = len(data['response'][0]['league']['standings'][0])\n",
    "\n",
    "for team in range(teams_num):\n",
    "    team_id = data['response'][0]['league']['standings'][0][team]['team']['id']\n",
    "    with open(\"teams_ids.json\", \"r+\") as f:\n",
    "        f_data = json.load(f)\n",
    "        f_data[\"team\"].append(team_id)\n",
    "        f.seek(0)\n",
    "        json.dump(f_data, f, indent = 2)\n",
    "\n"
   ]
  },
  {
   "cell_type": "code",
   "execution_count": 96,
   "id": "0c69b2bf",
   "metadata": {},
   "outputs": [
    {
     "name": "stdout",
     "output_type": "stream",
     "text": [
      "50\n",
      "40\n",
      "49\n",
      "47\n",
      "42\n",
      "33\n",
      "48\n",
      "46\n",
      "51\n",
      "39\n",
      "34\n",
      "52\n",
      "55\n",
      "66\n",
      "41\n",
      "45\n",
      "63\n",
      "44\n",
      "38\n",
      "71\n"
     ]
    }
   ],
   "source": [
    "f = open(\"teams_ids.json\")\n",
    "\n",
    "data = json.load(f)\n",
    "\n",
    "for i in data['team']:\n",
    "    print(i)\n",
    "\n",
    "f.close()"
   ]
  },
  {
   "cell_type": "code",
   "execution_count": 93,
   "id": "1e490e99",
   "metadata": {},
   "outputs": [
    {
     "name": "stdout",
     "output_type": "stream",
     "text": [
      "[{'rank': 1, 'team': {'id': 50, 'name': 'Manchester City', 'logo': 'https://media.api-sports.io/football/teams/50.png'}, 'points': 93, 'goalsDiff': 73, 'group': 'Premier League', 'form': 'WDWWW', 'status': 'same', 'description': 'Promotion - Champions League (Group Stage)', 'all': {'played': 38, 'win': 29, 'draw': 6, 'lose': 3, 'goals': {'for': 99, 'against': 26}}, 'home': {'played': 19, 'win': 15, 'draw': 2, 'lose': 2, 'goals': {'for': 58, 'against': 15}}, 'away': {'played': 19, 'win': 14, 'draw': 4, 'lose': 1, 'goals': {'for': 41, 'against': 11}}, 'update': '2022-05-22T00:00:00+00:00'}, {'rank': 2, 'team': {'id': 40, 'name': 'Liverpool', 'logo': 'https://media.api-sports.io/football/teams/40.png'}, 'points': 92, 'goalsDiff': 68, 'group': 'Premier League', 'form': 'WWWDW', 'status': 'same', 'description': 'Promotion - Champions League (Group Stage)', 'all': {'played': 38, 'win': 28, 'draw': 8, 'lose': 2, 'goals': {'for': 94, 'against': 26}}, 'home': {'played': 19, 'win': 15, 'draw': 4, 'lose': 0, 'goals': {'for': 49, 'against': 9}}, 'away': {'played': 19, 'win': 13, 'draw': 4, 'lose': 2, 'goals': {'for': 45, 'against': 17}}, 'update': '2022-05-22T00:00:00+00:00'}, {'rank': 3, 'team': {'id': 49, 'name': 'Chelsea', 'logo': 'https://media.api-sports.io/football/teams/49.png'}, 'points': 74, 'goalsDiff': 43, 'group': 'Premier League', 'form': 'WDWDL', 'status': 'same', 'description': 'Promotion - Champions League (Group Stage)', 'all': {'played': 38, 'win': 21, 'draw': 11, 'lose': 6, 'goals': {'for': 76, 'against': 33}}, 'home': {'played': 19, 'win': 9, 'draw': 7, 'lose': 3, 'goals': {'for': 37, 'against': 22}}, 'away': {'played': 19, 'win': 12, 'draw': 4, 'lose': 3, 'goals': {'for': 39, 'against': 11}}, 'update': '2022-05-22T00:00:00+00:00'}, {'rank': 4, 'team': {'id': 47, 'name': 'Tottenham', 'logo': 'https://media.api-sports.io/football/teams/47.png'}, 'points': 71, 'goalsDiff': 29, 'group': 'Premier League', 'form': 'WWWDW', 'status': 'same', 'description': 'Promotion - Champions League (Group Stage)', 'all': {'played': 38, 'win': 22, 'draw': 5, 'lose': 11, 'goals': {'for': 69, 'against': 40}}, 'home': {'played': 19, 'win': 13, 'draw': 1, 'lose': 5, 'goals': {'for': 38, 'against': 19}}, 'away': {'played': 19, 'win': 9, 'draw': 4, 'lose': 6, 'goals': {'for': 31, 'against': 21}}, 'update': '2022-05-22T00:00:00+00:00'}, {'rank': 5, 'team': {'id': 42, 'name': 'Arsenal', 'logo': 'https://media.api-sports.io/football/teams/42.png'}, 'points': 69, 'goalsDiff': 13, 'group': 'Premier League', 'form': 'WLLWW', 'status': 'same', 'description': 'Promotion - Europa League (Group Stage)', 'all': {'played': 38, 'win': 22, 'draw': 3, 'lose': 13, 'goals': {'for': 61, 'against': 48}}, 'home': {'played': 19, 'win': 13, 'draw': 2, 'lose': 4, 'goals': {'for': 35, 'against': 17}}, 'away': {'played': 19, 'win': 9, 'draw': 1, 'lose': 9, 'goals': {'for': 26, 'against': 31}}, 'update': '2022-05-22T00:00:00+00:00'}, {'rank': 6, 'team': {'id': 33, 'name': 'Manchester United', 'logo': 'https://media.api-sports.io/football/teams/33.png'}, 'points': 58, 'goalsDiff': 0, 'group': 'Premier League', 'form': 'LLWDL', 'status': 'same', 'description': 'Promotion - Europa League (Group Stage)', 'all': {'played': 38, 'win': 16, 'draw': 10, 'lose': 12, 'goals': {'for': 57, 'against': 57}}, 'home': {'played': 19, 'win': 10, 'draw': 5, 'lose': 4, 'goals': {'for': 32, 'against': 22}}, 'away': {'played': 19, 'win': 6, 'draw': 5, 'lose': 8, 'goals': {'for': 25, 'against': 35}}, 'update': '2022-05-22T00:00:00+00:00'}, {'rank': 7, 'team': {'id': 48, 'name': 'West Ham', 'logo': 'https://media.api-sports.io/football/teams/48.png'}, 'points': 56, 'goalsDiff': 9, 'group': 'Premier League', 'form': 'LDWLL', 'status': 'same', 'description': 'Promotion - Europa Conference League (Qualification)', 'all': {'played': 38, 'win': 16, 'draw': 8, 'lose': 14, 'goals': {'for': 60, 'against': 51}}, 'home': {'played': 19, 'win': 9, 'draw': 5, 'lose': 5, 'goals': {'for': 33, 'against': 26}}, 'away': {'played': 19, 'win': 7, 'draw': 3, 'lose': 9, 'goals': {'for': 27, 'against': 25}}, 'update': '2022-05-22T00:00:00+00:00'}, {'rank': 8, 'team': {'id': 46, 'name': 'Leicester', 'logo': 'https://media.api-sports.io/football/teams/46.png'}, 'points': 52, 'goalsDiff': 3, 'group': 'Premier League', 'form': 'WDWWL', 'status': 'same', 'description': None, 'all': {'played': 38, 'win': 14, 'draw': 10, 'lose': 14, 'goals': {'for': 62, 'against': 59}}, 'home': {'played': 19, 'win': 10, 'draw': 4, 'lose': 5, 'goals': {'for': 34, 'against': 23}}, 'away': {'played': 19, 'win': 4, 'draw': 6, 'lose': 9, 'goals': {'for': 28, 'against': 36}}, 'update': '2022-05-22T00:00:00+00:00'}, {'rank': 9, 'team': {'id': 51, 'name': 'Brighton', 'logo': 'https://media.api-sports.io/football/teams/51.png'}, 'points': 51, 'goalsDiff': -2, 'group': 'Premier League', 'form': 'WDWWD', 'status': 'same', 'description': None, 'all': {'played': 38, 'win': 12, 'draw': 15, 'lose': 11, 'goals': {'for': 42, 'against': 44}}, 'home': {'played': 19, 'win': 5, 'draw': 7, 'lose': 7, 'goals': {'for': 19, 'against': 23}}, 'away': {'played': 19, 'win': 7, 'draw': 8, 'lose': 4, 'goals': {'for': 23, 'against': 21}}, 'update': '2022-05-22T00:00:00+00:00'}, {'rank': 10, 'team': {'id': 39, 'name': 'Wolves', 'logo': 'https://media.api-sports.io/football/teams/39.png'}, 'points': 51, 'goalsDiff': -5, 'group': 'Premier League', 'form': 'LDLDL', 'status': 'same', 'description': None, 'all': {'played': 38, 'win': 15, 'draw': 6, 'lose': 17, 'goals': {'for': 38, 'against': 43}}, 'home': {'played': 19, 'win': 7, 'draw': 3, 'lose': 9, 'goals': {'for': 20, 'against': 25}}, 'away': {'played': 19, 'win': 8, 'draw': 3, 'lose': 8, 'goals': {'for': 18, 'against': 18}}, 'update': '2022-05-22T00:00:00+00:00'}, {'rank': 11, 'team': {'id': 34, 'name': 'Newcastle', 'logo': 'https://media.api-sports.io/football/teams/34.png'}, 'points': 49, 'goalsDiff': -18, 'group': 'Premier League', 'form': 'WWLLW', 'status': 'same', 'description': None, 'all': {'played': 38, 'win': 13, 'draw': 10, 'lose': 15, 'goals': {'for': 44, 'against': 62}}, 'home': {'played': 19, 'win': 8, 'draw': 6, 'lose': 5, 'goals': {'for': 26, 'against': 27}}, 'away': {'played': 19, 'win': 5, 'draw': 4, 'lose': 10, 'goals': {'for': 18, 'against': 35}}, 'update': '2022-05-22T00:00:00+00:00'}, {'rank': 12, 'team': {'id': 52, 'name': 'Crystal Palace', 'logo': 'https://media.api-sports.io/football/teams/52.png'}, 'points': 48, 'goalsDiff': 4, 'group': 'Premier League', 'form': 'WLDWW', 'status': 'same', 'description': None, 'all': {'played': 38, 'win': 11, 'draw': 15, 'lose': 12, 'goals': {'for': 50, 'against': 46}}, 'home': {'played': 19, 'win': 7, 'draw': 8, 'lose': 4, 'goals': {'for': 27, 'against': 17}}, 'away': {'played': 19, 'win': 4, 'draw': 7, 'lose': 8, 'goals': {'for': 23, 'against': 29}}, 'update': '2022-05-22T00:00:00+00:00'}, {'rank': 13, 'team': {'id': 55, 'name': 'Brentford', 'logo': 'https://media.api-sports.io/football/teams/55.png'}, 'points': 46, 'goalsDiff': -8, 'group': 'Premier League', 'form': 'LWWLD', 'status': 'same', 'description': None, 'all': {'played': 38, 'win': 13, 'draw': 7, 'lose': 18, 'goals': {'for': 48, 'against': 56}}, 'home': {'played': 19, 'win': 7, 'draw': 3, 'lose': 9, 'goals': {'for': 22, 'against': 21}}, 'away': {'played': 19, 'win': 6, 'draw': 4, 'lose': 9, 'goals': {'for': 26, 'against': 35}}, 'update': '2022-05-22T00:00:00+00:00'}, {'rank': 14, 'team': {'id': 66, 'name': 'Aston Villa', 'logo': 'https://media.api-sports.io/football/teams/66.png'}, 'points': 45, 'goalsDiff': -2, 'group': 'Premier League', 'form': 'LDDLW', 'status': 'same', 'description': None, 'all': {'played': 38, 'win': 13, 'draw': 6, 'lose': 19, 'goals': {'for': 52, 'against': 54}}, 'home': {'played': 19, 'win': 6, 'draw': 5, 'lose': 8, 'goals': {'for': 29, 'against': 29}}, 'away': {'played': 19, 'win': 7, 'draw': 1, 'lose': 11, 'goals': {'for': 23, 'against': 25}}, 'update': '2022-05-22T00:00:00+00:00'}, {'rank': 15, 'team': {'id': 41, 'name': 'Southampton', 'logo': 'https://media.api-sports.io/football/teams/41.png'}, 'points': 40, 'goalsDiff': -24, 'group': 'Premier League', 'form': 'LLLLD', 'status': 'same', 'description': None, 'all': {'played': 38, 'win': 9, 'draw': 13, 'lose': 16, 'goals': {'for': 43, 'against': 67}}, 'home': {'played': 19, 'win': 6, 'draw': 7, 'lose': 6, 'goals': {'for': 23, 'against': 24}}, 'away': {'played': 19, 'win': 3, 'draw': 6, 'lose': 10, 'goals': {'for': 20, 'against': 43}}, 'update': '2022-05-22T00:00:00+00:00'}, {'rank': 16, 'team': {'id': 45, 'name': 'Everton', 'logo': 'https://media.api-sports.io/football/teams/45.png'}, 'points': 39, 'goalsDiff': -23, 'group': 'Premier League', 'form': 'LWLDW', 'status': 'same', 'description': None, 'all': {'played': 38, 'win': 11, 'draw': 6, 'lose': 21, 'goals': {'for': 43, 'against': 66}}, 'home': {'played': 19, 'win': 9, 'draw': 2, 'lose': 8, 'goals': {'for': 27, 'against': 25}}, 'away': {'played': 19, 'win': 2, 'draw': 4, 'lose': 13, 'goals': {'for': 16, 'against': 41}}, 'update': '2022-05-22T00:00:00+00:00'}, {'rank': 17, 'team': {'id': 63, 'name': 'Leeds', 'logo': 'https://media.api-sports.io/football/teams/63.png'}, 'points': 38, 'goalsDiff': -37, 'group': 'Premier League', 'form': 'WDLLL', 'status': 'same', 'description': None, 'all': {'played': 38, 'win': 9, 'draw': 11, 'lose': 18, 'goals': {'for': 42, 'against': 79}}, 'home': {'played': 19, 'win': 4, 'draw': 6, 'lose': 9, 'goals': {'for': 19, 'against': 38}}, 'away': {'played': 19, 'win': 5, 'draw': 5, 'lose': 9, 'goals': {'for': 23, 'against': 41}}, 'update': '2022-05-22T00:00:00+00:00'}, {'rank': 18, 'team': {'id': 44, 'name': 'Burnley', 'logo': 'https://media.api-sports.io/football/teams/44.png'}, 'points': 35, 'goalsDiff': -19, 'group': 'Premier League', 'form': 'LDLLW', 'status': 'same', 'description': 'Relegation - Championship', 'all': {'played': 38, 'win': 7, 'draw': 14, 'lose': 17, 'goals': {'for': 34, 'against': 53}}, 'home': {'played': 19, 'win': 5, 'draw': 6, 'lose': 8, 'goals': {'for': 18, 'against': 25}}, 'away': {'played': 19, 'win': 2, 'draw': 8, 'lose': 9, 'goals': {'for': 16, 'against': 28}}, 'update': '2022-05-22T00:00:00+00:00'}, {'rank': 19, 'team': {'id': 38, 'name': 'Watford', 'logo': 'https://media.api-sports.io/football/teams/38.png'}, 'points': 23, 'goalsDiff': -43, 'group': 'Premier League', 'form': 'LLDLL', 'status': 'same', 'description': 'Relegation - Championship', 'all': {'played': 38, 'win': 6, 'draw': 5, 'lose': 27, 'goals': {'for': 34, 'against': 77}}, 'home': {'played': 19, 'win': 2, 'draw': 2, 'lose': 15, 'goals': {'for': 17, 'against': 46}}, 'away': {'played': 19, 'win': 4, 'draw': 3, 'lose': 12, 'goals': {'for': 17, 'against': 31}}, 'update': '2022-05-22T00:00:00+00:00'}, {'rank': 20, 'team': {'id': 71, 'name': 'Norwich', 'logo': 'https://media.api-sports.io/football/teams/71.png'}, 'points': 22, 'goalsDiff': -61, 'group': 'Premier League', 'form': 'LDLLL', 'status': 'same', 'description': 'Relegation - Championship', 'all': {'played': 38, 'win': 5, 'draw': 7, 'lose': 26, 'goals': {'for': 23, 'against': 84}}, 'home': {'played': 19, 'win': 3, 'draw': 3, 'lose': 13, 'goals': {'for': 12, 'against': 43}}, 'away': {'played': 19, 'win': 2, 'draw': 4, 'lose': 13, 'goals': {'for': 11, 'against': 41}}, 'update': '2022-05-22T00:00:00+00:00'}]\n"
     ]
    }
   ],
   "source": [
    "print(data['response'][0]['league']['standings'][0])"
   ]
  },
  {
   "cell_type": "markdown",
   "id": "354011f0",
   "metadata": {},
   "source": [
    "##### option 2"
   ]
  },
  {
   "cell_type": "code",
   "execution_count": 5,
   "id": "43803069",
   "metadata": {
    "collapsed": true
   },
   "outputs": [
    {
     "name": "stdout",
     "output_type": "stream",
     "text": [
      "{\"get\":\"standings\",\"parameters\":{\"league\":\"39\",\"season\":\"2019\"},\"errors\":[],\"results\":1,\"paging\":{\"current\":1,\"total\":1},\"response\":[{\"league\":{\"id\":39,\"name\":\"Premier League\",\"country\":\"England\",\"logo\":\"https:\\/\\/media.api-sports.io\\/football\\/leagues\\/39.png\",\"flag\":\"https:\\/\\/media.api-sports.io\\/flags\\/gb.svg\",\"season\":2019,\"standings\":[[{\"rank\":1,\"team\":{\"id\":40,\"name\":\"Liverpool\",\"logo\":\"https:\\/\\/media.api-sports.io\\/football\\/teams\\/40.png\"},\"points\":99,\"goalsDiff\":52,\"group\":\"Premier League\",\"form\":\"WWLDW\",\"status\":\"same\",\"description\":\"Promotion - Champions League (Group Stage)\",\"all\":{\"played\":38,\"win\":32,\"draw\":3,\"lose\":3,\"goals\":{\"for\":85,\"against\":33}},\"home\":{\"played\":19,\"win\":18,\"draw\":1,\"lose\":0,\"goals\":{\"for\":52,\"against\":16}},\"away\":{\"played\":19,\"win\":14,\"draw\":2,\"lose\":3,\"goals\":{\"for\":33,\"against\":17}},\"update\":\"2020-07-26T00:00:00+00:00\"},{\"rank\":2,\"team\":{\"id\":50,\"name\":\"Manchester City\",\"logo\":\"https:\\/\\/media.api-sports.io\\/football\\/teams\\/50.png\"},\"points\":81,\"goalsDiff\":67,\"group\":\"Premier League\",\"form\":\"WWWWW\",\"status\":\"same\",\"description\":\"Promotion - Champions League (Group Stage)\",\"all\":{\"played\":38,\"win\":26,\"draw\":3,\"lose\":9,\"goals\":{\"for\":102,\"against\":35}},\"home\":{\"played\":19,\"win\":15,\"draw\":2,\"lose\":2,\"goals\":{\"for\":57,\"against\":13}},\"away\":{\"played\":19,\"win\":11,\"draw\":1,\"lose\":7,\"goals\":{\"for\":45,\"against\":22}},\"update\":\"2020-07-26T00:00:00+00:00\"},{\"rank\":3,\"team\":{\"id\":33,\"name\":\"Manchester United\",\"logo\":\"https:\\/\\/media.api-sports.io\\/football\\/teams\\/33.png\"},\"points\":66,\"goalsDiff\":30,\"group\":\"Premier League\",\"form\":\"WDWDW\",\"status\":\"same\",\"description\":\"Promotion - Champions League (Group Stage)\",\"all\":{\"played\":38,\"win\":18,\"draw\":12,\"lose\":8,\"goals\":{\"for\":66,\"against\":36}},\"home\":{\"played\":19,\"win\":10,\"draw\":7,\"lose\":2,\"goals\":{\"for\":40,\"against\":17}},\"away\":{\"played\":19,\"win\":8,\"draw\":5,\"lose\":6,\"goals\":{\"for\":26,\"against\":19}},\"update\":\"2020-07-26T00:00:00+00:00\"},{\"rank\":4,\"team\":{\"id\":49,\"name\":\"Chelsea\",\"logo\":\"https:\\/\\/media.api-sports.io\\/football\\/teams\\/49.png\"},\"points\":66,\"goalsDiff\":15,\"group\":\"Premier League\",\"form\":\"WLWLW\",\"status\":\"same\",\"description\":\"Promotion - Champions League (Group Stage)\",\"all\":{\"played\":38,\"win\":20,\"draw\":6,\"lose\":12,\"goals\":{\"for\":69,\"against\":54}},\"home\":{\"played\":19,\"win\":11,\"draw\":3,\"lose\":5,\"goals\":{\"for\":30,\"against\":16}},\"away\":{\"played\":19,\"win\":9,\"draw\":3,\"lose\":7,\"goals\":{\"for\":39,\"against\":38}},\"update\":\"2020-07-26T00:00:00+00:00\"},{\"rank\":5,\"team\":{\"id\":46,\"name\":\"Leicester\",\"logo\":\"https:\\/\\/media.api-sports.io\\/football\\/teams\\/46.png\"},\"points\":62,\"goalsDiff\":26,\"group\":\"Premier League\",\"form\":\"LLWLD\",\"status\":\"same\",\"description\":\"Promotion - Europa League (Group Stage)\",\"all\":{\"played\":38,\"win\":18,\"draw\":8,\"lose\":12,\"goals\":{\"for\":67,\"against\":41}},\"home\":{\"played\":19,\"win\":11,\"draw\":4,\"lose\":4,\"goals\":{\"for\":35,\"against\":17}},\"away\":{\"played\":19,\"win\":7,\"draw\":4,\"lose\":8,\"goals\":{\"for\":32,\"against\":24}},\"update\":\"2020-07-26T00:00:00+00:00\"},{\"rank\":6,\"team\":{\"id\":47,\"name\":\"Tottenham\",\"logo\":\"https:\\/\\/media.api-sports.io\\/football\\/teams\\/47.png\"},\"points\":59,\"goalsDiff\":14,\"group\":\"Premier League\",\"form\":\"DWWWD\",\"status\":\"same\",\"description\":\"Promotion - Europa League (Qualification)\",\"all\":{\"played\":38,\"win\":16,\"draw\":11,\"lose\":11,\"goals\":{\"for\":61,\"against\":47}},\"home\":{\"played\":19,\"win\":12,\"draw\":3,\"lose\":4,\"goals\":{\"for\":36,\"against\":17}},\"away\":{\"played\":19,\"win\":4,\"draw\":8,\"lose\":7,\"goals\":{\"for\":25,\"against\":30}},\"update\":\"2020-07-26T00:00:00+00:00\"},{\"rank\":7,\"team\":{\"id\":39,\"name\":\"Wolves\",\"logo\":\"https:\\/\\/media.api-sports.io\\/football\\/teams\\/39.png\"},\"points\":59,\"goalsDiff\":11,\"group\":\"Premier League\",\"form\":\"LWDWL\",\"status\":\"same\",\"description\":null,\"all\":{\"played\":38,\"win\":15,\"draw\":14,\"lose\":9,\"goals\":{\"for\":51,\"against\":40}},\"home\":{\"played\":19,\"win\":8,\"draw\":7,\"lose\":4,\"goals\":{\"for\":27,\"against\":19}},\"away\":{\"played\":19,\"win\":7,\"draw\":7,\"lose\":5,\"goals\":{\"for\":24,\"against\":21}},\"update\":\"2020-07-26T00:00:00+00:00\"},{\"rank\":8,\"team\":{\"id\":42,\"name\":\"Arsenal\",\"logo\":\"https:\\/\\/media.api-sports.io\\/football\\/teams\\/42.png\"},\"points\":56,\"goalsDiff\":8,\"group\":\"Premier League\",\"form\":\"WLWLD\",\"status\":\"same\",\"description\":null,\"all\":{\"played\":38,\"win\":14,\"draw\":14,\"lose\":10,\"goals\":{\"for\":56,\"against\":48}},\"home\":{\"played\":19,\"win\":10,\"draw\":6,\"lose\":3,\"goals\":{\"for\":36,\"against\":24}},\"away\":{\"played\":19,\"win\":4,\"draw\":8,\"lose\":7,\"goals\":{\"for\":20,\"against\":24}},\"update\":\"2020-07-26T00:00:00+00:00\"},{\"rank\":9,\"team\":{\"id\":62,\"name\":\"Sheffield Utd\",\"logo\":\"https:\\/\\/media.api-sports.io\\/football\\/teams\\/62.png\"},\"points\":54,\"goalsDiff\":0,\"group\":\"Premier League\",\"form\":\"LLLWW\",\"status\":\"same\",\"description\":null,\"all\":{\"played\":38,\"win\":14,\"draw\":12,\"lose\":12,\"goals\":{\"for\":39,\"against\":39}},\"home\":{\"played\":19,\"win\":10,\"draw\":3,\"lose\":6,\"goals\":{\"for\":24,\"against\":15}},\"away\":{\"played\":19,\"win\":4,\"draw\":9,\"lose\":6,\"goals\":{\"for\":15,\"against\":24}},\"update\":\"2020-07-26T00:00:00+00:00\"},{\"rank\":10,\"team\":{\"id\":44,\"name\":\"Burnley\",\"logo\":\"https:\\/\\/media.api-sports.io\\/football\\/teams\\/44.png\"},\"points\":54,\"goalsDiff\":-7,\"group\":\"Premier League\",\"form\":\"LWDDW\",\"status\":\"same\",\"description\":null,\"all\":{\"played\":38,\"win\":15,\"draw\":9,\"lose\":14,\"goals\":{\"for\":43,\"against\":50}},\"home\":{\"played\":19,\"win\":8,\"draw\":4,\"lose\":7,\"goals\":{\"for\":24,\"against\":23}},\"away\":{\"played\":19,\"win\":7,\"draw\":5,\"lose\":7,\"goals\":{\"for\":19,\"against\":27}},\"update\":\"2020-07-26T00:00:00+00:00\"},{\"rank\":11,\"team\":{\"id\":41,\"name\":\"Southampton\",\"logo\":\"https:\\/\\/media.api-sports.io\\/football\\/teams\\/41.png\"},\"points\":52,\"goalsDiff\":-9,\"group\":\"Premier League\",\"form\":\"WWDDD\",\"status\":\"same\",\"description\":null,\"all\":{\"played\":38,\"win\":15,\"draw\":7,\"lose\":16,\"goals\":{\"for\":51,\"against\":60}},\"home\":{\"played\":19,\"win\":6,\"draw\":3,\"lose\":10,\"goals\":{\"for\":21,\"against\":35}},\"away\":{\"played\":19,\"win\":9,\"draw\":4,\"lose\":6,\"goals\":{\"for\":30,\"against\":25}},\"update\":\"2020-07-26T00:00:00+00:00\"},{\"rank\":12,\"team\":{\"id\":45,\"name\":\"Everton\",\"logo\":\"https:\\/\\/media.api-sports.io\\/football\\/teams\\/45.png\"},\"points\":49,\"goalsDiff\":-12,\"group\":\"Premier League\",\"form\":\"LWDLD\",\"status\":\"same\",\"description\":null,\"all\":{\"played\":38,\"win\":13,\"draw\":10,\"lose\":15,\"goals\":{\"for\":44,\"against\":56}},\"home\":{\"played\":19,\"win\":8,\"draw\":7,\"lose\":4,\"goals\":{\"for\":24,\"against\":21}},\"away\":{\"played\":19,\"win\":5,\"draw\":3,\"lose\":11,\"goals\":{\"for\":20,\"against\":35}},\"update\":\"2020-07-26T00:00:00+00:00\"},{\"rank\":13,\"team\":{\"id\":34,\"name\":\"Newcastle\",\"logo\":\"https:\\/\\/media.api-sports.io\\/football\\/teams\\/34.png\"},\"points\":44,\"goalsDiff\":-20,\"group\":\"Premier League\",\"form\":\"LDLLL\",\"status\":\"same\",\"description\":null,\"all\":{\"played\":38,\"win\":11,\"draw\":11,\"lose\":16,\"goals\":{\"for\":38,\"against\":58}},\"home\":{\"played\":19,\"win\":6,\"draw\":8,\"lose\":5,\"goals\":{\"for\":20,\"against\":21}},\"away\":{\"played\":19,\"win\":5,\"draw\":3,\"lose\":11,\"goals\":{\"for\":18,\"against\":37}},\"update\":\"2020-07-26T00:00:00+00:00\"},{\"rank\":14,\"team\":{\"id\":52,\"name\":\"Crystal Palace\",\"logo\":\"https:\\/\\/media.api-sports.io\\/football\\/teams\\/52.png\"},\"points\":43,\"goalsDiff\":-19,\"group\":\"Premier League\",\"form\":\"DLLLL\",\"status\":\"same\",\"description\":null,\"all\":{\"played\":38,\"win\":11,\"draw\":10,\"lose\":17,\"goals\":{\"for\":31,\"against\":50}},\"home\":{\"played\":19,\"win\":6,\"draw\":5,\"lose\":8,\"goals\":{\"for\":15,\"against\":20}},\"away\":{\"played\":19,\"win\":5,\"draw\":5,\"lose\":9,\"goals\":{\"for\":16,\"against\":30}},\"update\":\"2020-07-26T00:00:00+00:00\"},{\"rank\":15,\"team\":{\"id\":51,\"name\":\"Brighton\",\"logo\":\"https:\\/\\/media.api-sports.io\\/football\\/teams\\/51.png\"},\"points\":41,\"goalsDiff\":-15,\"group\":\"Premier League\",\"form\":\"WDDLL\",\"status\":\"same\",\"description\":null,\"all\":{\"played\":38,\"win\":9,\"draw\":14,\"lose\":15,\"goals\":{\"for\":39,\"against\":54}},\"home\":{\"played\":19,\"win\":5,\"draw\":7,\"lose\":7,\"goals\":{\"for\":20,\"against\":27}},\"away\":{\"played\":19,\"win\":4,\"draw\":7,\"lose\":8,\"goals\":{\"for\":19,\"against\":27}},\"update\":\"2020-07-26T00:00:00+00:00\"},{\"rank\":16,\"team\":{\"id\":48,\"name\":\"West Ham\",\"logo\":\"https:\\/\\/media.api-sports.io\\/football\\/teams\\/48.png\"},\"points\":39,\"goalsDiff\":-13,\"group\":\"Premier League\",\"form\":\"DDWWL\",\"status\":\"same\",\"description\":null,\"all\":{\"played\":38,\"win\":10,\"draw\":9,\"lose\":19,\"goals\":{\"for\":49,\"against\":62}},\"home\":{\"played\":19,\"win\":6,\"draw\":4,\"lose\":9,\"goals\":{\"for\":30,\"against\":33}},\"away\":{\"played\":19,\"win\":4,\"draw\":5,\"lose\":10,\"goals\":{\"for\":19,\"against\":29}},\"update\":\"2020-07-26T00:00:00+00:00\"},{\"rank\":17,\"team\":{\"id\":66,\"name\":\"Aston Villa\",\"logo\":\"https:\\/\\/media.api-sports.io\\/football\\/teams\\/66.png\"},\"points\":35,\"goalsDiff\":-26,\"group\":\"Premier League\",\"form\":\"DWDWL\",\"status\":\"same\",\"description\":null,\"all\":{\"played\":38,\"win\":9,\"draw\":8,\"lose\":21,\"goals\":{\"for\":41,\"against\":67}},\"home\":{\"played\":19,\"win\":7,\"draw\":3,\"lose\":9,\"goals\":{\"for\":22,\"against\":30}},\"away\":{\"played\":19,\"win\":2,\"draw\":5,\"lose\":12,\"goals\":{\"for\":19,\"against\":37}},\"update\":\"2020-07-26T00:00:00+00:00\"},{\"rank\":18,\"team\":{\"id\":35,\"name\":\"Bournemouth\",\"logo\":\"https:\\/\\/media.api-sports.io\\/football\\/teams\\/35.png\"},\"points\":34,\"goalsDiff\":-25,\"group\":\"Premier League\",\"form\":\"WLLWD\",\"status\":\"same\",\"description\":\"Relegation - Championship\",\"all\":{\"played\":38,\"win\":9,\"draw\":7,\"lose\":22,\"goals\":{\"for\":40,\"against\":65}},\"home\":{\"played\":19,\"win\":5,\"draw\":6,\"lose\":8,\"goals\":{\"for\":22,\"against\":30}},\"away\":{\"played\":19,\"win\":4,\"draw\":1,\"lose\":14,\"goals\":{\"for\":18,\"against\":35}},\"update\":\"2020-07-26T00:00:00+00:00\"},{\"rank\":19,\"team\":{\"id\":38,\"name\":\"Watford\",\"logo\":\"https:\\/\\/media.api-sports.io\\/football\\/teams\\/38.png\"},\"points\":34,\"goalsDiff\":-28,\"group\":\"Premier League\",\"form\":\"LLLWW\",\"status\":\"same\",\"description\":\"Relegation - Championship\",\"all\":{\"played\":38,\"win\":8,\"draw\":10,\"lose\":20,\"goals\":{\"for\":36,\"against\":64}},\"home\":{\"played\":19,\"win\":6,\"draw\":6,\"lose\":7,\"goals\":{\"for\":22,\"against\":27}},\"away\":{\"played\":19,\"win\":2,\"draw\":4,\"lose\":13,\"goals\":{\"for\":14,\"against\":37}},\"update\":\"2020-07-26T00:00:00+00:00\"},{\"rank\":20,\"team\":{\"id\":71,\"name\":\"Norwich\",\"logo\":\"https:\\/\\/media.api-sports.io\\/football\\/teams\\/71.png\"},\"points\":21,\"goalsDiff\":-49,\"group\":\"Premier League\",\"form\":\"LLLLL\",\"status\":\"same\",\"description\":\"Relegation - Championship\",\"all\":{\"played\":38,\"win\":5,\"draw\":6,\"lose\":27,\"goals\":{\"for\":26,\"against\":75}},\"home\":{\"played\":19,\"win\":4,\"draw\":3,\"lose\":12,\"goals\":{\"for\":19,\"against\":37}},\"away\":{\"played\":19,\"win\":1,\"draw\":3,\"lose\":15,\"goals\":{\"for\":7,\"against\":38}},\"update\":\"2020-07-26T00:00:00+00:00\"}]]}}]}\n"
     ]
    }
   ],
   "source": [
    "import http.client\n",
    "import json\n",
    "\n",
    "conn = http.client.HTTPSConnection(\"v3.football.api-sports.io\")\n",
    "\n",
    "headers = {\n",
    "    'Content-type': 'application/json',\n",
    "    'x-rapidapi-host': \"v3.football.api-sports.io\",\n",
    "    'x-rapidapi-key': \"d344e44df5d6ddd17d81d42ace86c412\"\n",
    "    }\n",
    "\n",
    "conn.request(\"GET\", \"/standings?league=39&season=2019\", headers=headers)\n",
    "\n",
    "res = conn.getresponse()\n",
    "data = res.read()\n",
    "\n",
    "print(data.decode(\"utf-8\"))"
   ]
  },
  {
   "cell_type": "code",
   "execution_count": 105,
   "id": "66f22120",
   "metadata": {},
   "outputs": [
    {
     "name": "stdout",
     "output_type": "stream",
     "text": [
      "{'rank': 1, 'team': {'id': 40, 'name': 'Liverpool', 'logo': 'https://media.api-sports.io/football/teams/40.png'}, 'points': 99, 'goalsDiff': 52, 'group': 'Premier League', 'form': 'WWLDW', 'status': 'same', 'description': 'Promotion - Champions League (Group Stage)', 'all': {'played': 38, 'win': 32, 'draw': 3, 'lose': 3, 'goals': {'for': 85, 'against': 33}}, 'home': {'played': 19, 'win': 18, 'draw': 1, 'lose': 0, 'goals': {'for': 52, 'against': 16}}, 'away': {'played': 19, 'win': 14, 'draw': 2, 'lose': 3, 'goals': {'for': 33, 'against': 17}}, 'update': '2020-07-26T00:00:00+00:00'}\n"
     ]
    }
   ],
   "source": [
    "d = json.loads(data_json)\n",
    "print(d['response'][0]['league']['standings'][0][0])"
   ]
  }
 ],
 "metadata": {
  "kernelspec": {
   "display_name": "Python 3 (ipykernel)",
   "language": "python",
   "name": "python3"
  },
  "language_info": {
   "codemirror_mode": {
    "name": "ipython",
    "version": 3
   },
   "file_extension": ".py",
   "mimetype": "text/x-python",
   "name": "python",
   "nbconvert_exporter": "python",
   "pygments_lexer": "ipython3",
   "version": "3.11.0"
  }
 },
 "nbformat": 4,
 "nbformat_minor": 5
}
