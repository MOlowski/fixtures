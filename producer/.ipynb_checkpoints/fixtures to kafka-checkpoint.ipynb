{
 "cells": [
  {
   "cell_type": "code",
   "execution_count": 2,
   "id": "785d1051",
   "metadata": {},
   "outputs": [
    {
     "name": "stdout",
     "output_type": "stream",
     "text": [
      "Collecting requests\n",
      "  Using cached requests-2.28.1-py3-none-any.whl (62 kB)\n",
      "Collecting charset-normalizer<3,>=2\n",
      "  Using cached charset_normalizer-2.1.1-py3-none-any.whl (39 kB)\n",
      "Collecting idna<4,>=2.5\n",
      "  Using cached idna-3.4-py3-none-any.whl (61 kB)\n",
      "Collecting urllib3<1.27,>=1.21.1\n",
      "  Using cached urllib3-1.26.13-py2.py3-none-any.whl (140 kB)\n",
      "Collecting certifi>=2017.4.17\n",
      "  Downloading certifi-2022.12.7-py3-none-any.whl (155 kB)\n",
      "     -------------------------------------- 155.3/155.3 kB 3.1 MB/s eta 0:00:00\n",
      "Installing collected packages: urllib3, idna, charset-normalizer, certifi, requests\n",
      "Successfully installed certifi-2022.12.7 charset-normalizer-2.1.1 idna-3.4 requests-2.28.1 urllib3-1.26.13\n"
     ]
    },
    {
     "name": "stderr",
     "output_type": "stream",
     "text": [
      "\n",
      "[notice] A new release of pip available: 22.3 -> 22.3.1\n",
      "[notice] To update, run: python.exe -m pip install --upgrade pip\n"
     ]
    }
   ],
   "source": [
    "!pip install kafka-python"
   ]
  },
  {
   "cell_type": "code",
   "execution_count": 12,
   "id": "6e64d593",
   "metadata": {},
   "outputs": [],
   "source": [
    "import requests\n",
    "import json\n",
    "import pandas as pd\n",
    "from kafka.admin import KafkaAdminClient, NewTopic\n",
    "from kafka import KafkaProducer\n",
    "from json import dumps\n",
    "import time\n"
   ]
  },
  {
   "cell_type": "code",
   "execution_count": 4,
   "id": "35cfe7a3",
   "metadata": {
    "scrolled": true
   },
   "outputs": [],
   "source": [
    "with open(\"teams_ids.json\", \"r\") as f:\n",
    "    f_data = json.load(f)\n",
    "    f.close()\n",
    "teams_num = len(f_data['team'])"
   ]
  },
  {
   "cell_type": "markdown",
   "id": "6072cbd9",
   "metadata": {},
   "source": [
    "#### create kafka topic"
   ]
  },
  {
   "cell_type": "code",
   "execution_count": 5,
   "id": "6dbb7e66",
   "metadata": {},
   "outputs": [],
   "source": [
    "def create_kafka_topic(topic_name):\n",
    "    admin_client = KafkaAdminClient(\n",
    "        bootstrap_servers=\"localhost:29092\", \n",
    "        client_id='test',\n",
    "        api_version=(2,0,2)\n",
    "    )\n",
    "\n",
    "    topic_list = []\n",
    "    topic_list.append(NewTopic(name=topic_name, num_partitions=1, replication_factor=1))\n",
    "    admin_client.create_topics(new_topics=topic_list, validate_only=False)"
   ]
  },
  {
   "cell_type": "markdown",
   "id": "b25e5b78",
   "metadata": {},
   "source": [
    "#####  write fixtures to kafka "
   ]
  },
  {
   "cell_type": "code",
   "execution_count": 4,
   "id": "6849dcc3",
   "metadata": {},
   "outputs": [],
   "source": [
    "create_kafka_topic('fixtures')"
   ]
  },
  {
   "cell_type": "code",
   "execution_count": 16,
   "id": "3d1b6263",
   "metadata": {
    "scrolled": true
   },
   "outputs": [],
   "source": [
    "producer = KafkaProducer(bootstrap_servers=['localhost:29092'],\n",
    "                         api_version=(2,0,2),\n",
    "                         value_serializer=lambda x: \n",
    "                         dumps(x).encode('utf-8'))\n",
    "\n",
    "URL = \"https://v3.football.api-sports.io/fixtures\"\n",
    "\n",
    "headers = {\n",
    "    \"Content-Type\": \"application/json\",\n",
    "    \"x-rapidapi-host\": \"v3.football.api-sports.io\",\n",
    "    \"x-rapidapi-key\": \"d344e44df5d6ddd17d81d42ace86c412\"\n",
    "}\n",
    "\n",
    "topic_name = \"fixtures\"\n",
    "\n",
    "for team in range(1,teams_num+1):\n",
    "    if (team % 10 == 0)and(team!=teams_num+1):\n",
    "        time.sleep(60)\n",
    "    data = get_fixtures(team)\n",
    "    \n",
    "    for fixture in range(len(data['response'])):\n",
    "        producer.send(topic_name, data['response'][fixture])"
   ]
  },
  {
   "cell_type": "code",
   "execution_count": 14,
   "id": "714f5464",
   "metadata": {},
   "outputs": [],
   "source": [
    "def get_fixtures(team):\n",
    "    team_id = f_data['team'][team-1]\n",
    "    params = {\n",
    "        \"league\": \"39\",\n",
    "        \"season\": \"2021\",\n",
    "        \"team\": team_id\n",
    "    }\n",
    "\n",
    "    response = requests.get(\n",
    "        URL,\n",
    "        params = params,\n",
    "        headers = headers\n",
    "    )\n",
    "    \n",
    "    data = response.json()\n",
    "    \n",
    "    return data"
   ]
  },
  {
   "cell_type": "code",
   "execution_count": null,
   "id": "8698c709",
   "metadata": {},
   "outputs": [],
   "source": []
  },
  {
   "cell_type": "code",
   "execution_count": null,
   "id": "afccda9b",
   "metadata": {},
   "outputs": [],
   "source": []
  },
  {
   "cell_type": "code",
   "execution_count": 17,
   "id": "4519aa60",
   "metadata": {},
   "outputs": [],
   "source": [
    "URL = \"https://v3.football.api-sports.io/fixtures\"\n",
    "\n",
    "headers = {\n",
    "    \"Content-Type\": \"application/json\",\n",
    "    \"x-rapidapi-host\": \"v3.football.api-sports.io\",\n",
    "    \"x-rapidapi-key\": \"d344e44df5d6ddd17d81d42ace86c412\"\n",
    "}\n",
    "\n",
    "params = {\n",
    "    \"league\": \"39\",\n",
    "    \"season\": \"2021\",\n",
    "    \"team\": \"50\"\n",
    "}\n",
    "\n",
    "response = requests.get(\n",
    "    URL,\n",
    "    params = params,\n",
    "    headers = headers\n",
    ")\n",
    "\n",
    "data = response.json()\n"
   ]
  },
  {
   "cell_type": "code",
   "execution_count": 8,
   "id": "791d8790",
   "metadata": {},
   "outputs": [
    {
     "ename": "IndexError",
     "evalue": "list index out of range",
     "output_type": "error",
     "traceback": [
      "\u001b[1;31m---------------------------------------------------------------------------\u001b[0m",
      "\u001b[1;31mIndexError\u001b[0m                                Traceback (most recent call last)",
      "Cell \u001b[1;32mIn[8], line 1\u001b[0m\n\u001b[1;32m----> 1\u001b[0m \u001b[38;5;28mprint\u001b[39m(\u001b[43mdata\u001b[49m\u001b[43m[\u001b[49m\u001b[38;5;124;43m'\u001b[39;49m\u001b[38;5;124;43mresponse\u001b[39;49m\u001b[38;5;124;43m'\u001b[39;49m\u001b[43m]\u001b[49m\u001b[43m[\u001b[49m\u001b[38;5;241;43m0\u001b[39;49m\u001b[43m]\u001b[49m)\n",
      "\u001b[1;31mIndexError\u001b[0m: list index out of range"
     ]
    }
   ],
   "source": [
    "print(data['response'][0])"
   ]
  },
  {
   "cell_type": "code",
   "execution_count": null,
   "id": "e98aef42",
   "metadata": {},
   "outputs": [],
   "source": []
  }
 ],
 "metadata": {
  "kernelspec": {
   "display_name": "Python 3 (ipykernel)",
   "language": "python",
   "name": "python3"
  },
  "language_info": {
   "codemirror_mode": {
    "name": "ipython",
    "version": 3
   },
   "file_extension": ".py",
   "mimetype": "text/x-python",
   "name": "python",
   "nbconvert_exporter": "python",
   "pygments_lexer": "ipython3",
   "version": "3.11.0"
  }
 },
 "nbformat": 4,
 "nbformat_minor": 5
}
